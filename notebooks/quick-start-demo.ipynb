{
  "cells": [
    {
      "cell_type": "raw",
      "metadata": {
        "vscode": {
          "languageId": "raw"
        }
      },
      "source": [
        "# Creative AI Evaluation Framework - Quick Start Demo 🚀\n",
        "\n",
        "**Get running in under 10 minutes!**\n",
        "\n",
        "This notebook demonstrates the core functionality of the Creative AI Evaluation Framework. You'll learn how to:\n",
        "\n",
        "1. **Setup the environment** (5 minutes)\n",
        "2. **Run basic evaluations** (3 minutes) \n",
        "3. **Analyze results** (2 minutes)\n",
        "\n",
        "---\n",
        "\n",
        "## What This Framework Does\n",
        "\n",
        "The Creative AI Evaluation Framework provides **4 levels of assessment**:\n",
        "\n",
        "- **🎭 Level 0: Context Evaluation** - Brand voice consistency and platform optimization\n",
        "- **📊 Level 1: Authenticity vs Performance** - Dynamic threshold balancing  \n",
        "- **⏱️ Level 2: Temporal Assessment** - Rolling window evaluation\n",
        "- **🎨 Level 3: Multi-Modal Coherence** - Cross-format content evaluation\n",
        "\n",
        "Let's get started!\n"
      ]
    },
    {
      "cell_type": "raw",
      "metadata": {
        "vscode": {
          "languageId": "raw"
        }
      },
      "source": [
        "## 1. Environment Setup (5 minutes) ⚙️\n"
      ]
    },
    {
      "cell_type": "code",
      "execution_count": null,
      "metadata": {},
      "outputs": [],
      "source": [
        "# Install required packages (if not already installed)\n",
        "# !pip install sentence-transformers pandas numpy scikit-learn matplotlib plotly\n",
        "\n",
        "import sys\n",
        "import os\n",
        "import warnings\n",
        "warnings.filterwarnings('ignore')\n",
        "\n",
        "# Add src to path for imports\n",
        "sys.path.append('../src')\n",
        "\n",
        "print(\"📦 Importing Creative AI Evaluation Framework...\")\n",
        "\n",
        "# Core imports\n",
        "from evaluators import ContentContextEvaluator\n",
        "import json\n",
        "import pandas as pd\n",
        "import matplotlib.pyplot as plt\n",
        "import plotly.express as px\n",
        "import plotly.graph_objects as go\n",
        "from datetime import datetime\n",
        "\n",
        "print(\"✅ Framework imported successfully!\")\n",
        "print(f\"🕒 Setup time: ~30 seconds\")\n"
      ]
    },
    {
      "cell_type": "code",
      "execution_count": null,
      "metadata": {},
      "outputs": [],
      "source": [
        "# Load sample data\n",
        "print(\"📊 Loading sample creator profile...\")\n",
        "\n",
        "# Initialize the evaluator\n",
        "evaluator = ContentContextEvaluator()\n",
        "\n",
        "# Load creator profile\n",
        "creator_profile = evaluator.load_creator_profile('../data/creator_profiles/creator_001_profile.json')\n",
        "\n",
        "print(f\"👤 Loaded profile for: {creator_profile['name']}\")\n",
        "print(f\"🎯 Platforms: {', '.join(creator_profile['platforms'])}\")\n",
        "print(f\"📈 Historical posts: {len(creator_profile['historical_content'])}\")\n",
        "print(\"\\n✅ Sample data loaded!\")\n"
      ]
    }
  ],
  "metadata": {
    "language_info": {
      "name": "python"
    }
  },
  "nbformat": 4,
  "nbformat_minor": 2
}
